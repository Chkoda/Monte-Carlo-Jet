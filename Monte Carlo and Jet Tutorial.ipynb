{
 "cells": [
  {
   "cell_type": "markdown",
   "metadata": {},
   "source": [
    "# Monte Carlo and Jet Tutorial\n",
    "\n",
    "By Alexander Chkodrov  "
   ]
  },
  {
   "cell_type": "code",
   "execution_count": 22,
   "metadata": {},
   "outputs": [],
   "source": [
    "import pandas\n",
    "import matplotlib.pyplot as plt\n",
    "import numpy as np\n",
    "import random\n",
    "import math"
   ]
  },
  {
   "cell_type": "markdown",
   "metadata": {},
   "source": [
    "### 3 Monte Carlo Simulation Basics\n",
    "\n",
    "generate random numbers between 5 and 15 and create a histogram"
   ]
  },
  {
   "cell_type": "code",
   "execution_count": 47,
   "metadata": {},
   "outputs": [
    {
     "data": {
      "image/png": "[encoded data removed]",
      "text/plain": [
       "<Figure size 432x288 with 2 Axes>"
      ]
     },
     "metadata": {
      "needs_background": "light"
     },
     "output_type": "display_data"
    }
   ],
   "source": [
    "dist = np.array([random.random() for i in range(0,1000)])\n",
    "modified_dist = np.add(np.multiply(dist,10), 5)\n",
    "fig, axs = plt.subplots(2, 1, tight_layout=True)\n",
    "axs[0].hist(dist, bins=50)\n",
    "axs[0].set_title(\"Uniform Dist from 0 to 1\")\n",
    "axs[1].hist(modified_dist, bins=50)\n",
    "axs[1].set_title(\"Uniform Dist from 5 to 15\")\n",
    "plt.show()"
   ]
  },
  {
   "cell_type": "markdown",
   "metadata": {},
   "source": [
    "The uniform distribution ranging from 5 to 15 has a mean of 10 and 5 times the variance of the distribution ranging from 0 to 1"
   ]
  },
  {
   "cell_type": "markdown",
   "metadata": {},
   "source": [
    "#### 3.2 Accept-Reject Monte Carlo\n",
    "\n",
    "generate random numbers distributed according to a Gaussian distribution with a mean $\\mu$ of 5 and a width $\\sigma$ of 2 in the range of \\[0,10\\]"
   ]
  },
  {
   "cell_type": "code",
   "execution_count": 24,
   "metadata": {},
   "outputs": [],
   "source": [
    "def gaussian_pdf(mu, sigma, n):\n",
    "    pdf = np.array([math.exp((-1/2)((random.random() - mu)/sigma)^2) for i in range(0,n)])\n",
    "    return pdf"
   ]
  },
  {
   "cell_type": "code",
   "execution_count": 23,
   "metadata": {},
   "outputs": [
    {
     "data": {
      "text/plain": [
       "2.718281828459045"
      ]
     },
     "execution_count": 23,
     "metadata": {},
     "output_type": "execute_result"
    }
   ],
   "source": [
    "pdf =\n",
    "plt.hist(gaussian_pdf()"
   ]
  },
  {
   "cell_type": "code",
   "execution_count": null,
   "metadata": {},
   "outputs": [],
   "source": []
  }
 ],
 "metadata": {
  "kernelspec": {
   "display_name": "Python 3",
   "language": "python",
   "name": "python3"
  },
  "language_info": {
   "codemirror_mode": {
    "name": "ipython",
    "version": 3
   },
   "file_extension": ".py",
   "mimetype": "text/x-python",
   "name": "python",
   "nbconvert_exporter": "python",
   "pygments_lexer": "ipython3",
   "version": "3.6.9"
  }
 },
 "nbformat": 4,
 "nbformat_minor": 2
}
