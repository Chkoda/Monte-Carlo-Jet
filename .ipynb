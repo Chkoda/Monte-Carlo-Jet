{
 "cells": [
  {
   "cell_type": "markdown",
   "metadata": {},
   "source": [
    "# Monte Carlo and Jet Tutorial\n",
    "\n",
    "By Alexander Chkodrov  "
   ]
  },
  {
   "cell_type": "code",
   "execution_count": 22,
   "metadata": {},
   "outputs": [],
   "source": [
    "import pandas\n",
    "import matplotlib.pyplot as plt\n",
    "import numpy as np\n",
    "import random\n",
    "import math"
   ]
  },
  {
   "cell_type": "markdown",
   "metadata": {},
   "source": [
    "## 3 Monte Carlo Simulation Basics\n",
    "\n",
    "generate random numbers between 5 and 15 and create a histogram"
   ]
  },
  {
   "cell_type": "code",
   "execution_count": 47,
   "metadata": {},
   "outputs": [
    {
     "data": {
      "image/png": "[encoded data removed]",
      "text/plain": [
       "<Figure size 432x288 with 2 Axes>"
      ]
     },
     "metadata": {
      "needs_background": "light"
     },
     "output_type": "display_data"
    }
   ],
   "source": [
    "dist = np.array([random.random() for i in range(0,1000)])\n",
    "modified_dist = np.add(np.multiply(dist,10), 5)\n",
    "fig, axs = plt.subplots(2, 1, tight_layout=True)\n",
    "axs[0].hist(dist, bins=50)\n",
    "axs[0].set_title(\"Uniform Dist from 0 to 1\")\n",
    "axs[1].hist(modified_dist, bins=50)\n",
    "axs[1].set_title(\"Uniform Dist from 5 to 15\")\n",
    "plt.show()"
   ]
  },
  {
   "cell_type": "markdown",
   "metadata": {},
   "source": [
    "The uniform distribution ranging from 5 to 15 has a mean of 10 and 5 times the variance of the distribution ranging from 0 to 1"
   ]
  },
  {
   "cell_type": "markdown",
   "metadata": {},
   "source": [
    "### 3.2 Accept-Reject Monte Carlo\n",
    "\n",
    "generate Gaussian distributed random numbers with a mean $\\mu$ of 5 and a width $\\sigma$ of 2 in the range of \\[0,10\\] using only random.random(), the uniform distribution from \\[0,1\\], to generate random numbers."
   ]
  },
  {
   "cell_type": "code",
   "execution_count": 152,
   "metadata": {},
   "outputs": [],
   "source": [
    "from scipy import stats\n",
    "from scipy.special import erfinv"
   ]
  },
  {
   "cell_type": "code",
   "execution_count": 156,
   "metadata": {},
   "outputs": [],
   "source": [
    "def gaussian_pdf(x, mu, sigma):\n",
    "    pdf = [(1.0/(sigma*math.sqrt(2*math.pi))) * math.exp((-1.0/2.0)*math.pow((i - mu)/sigma,2)) for i in x]\n",
    "    return pdf\n",
    "\n",
    "def norm_ppt(probs, mu, sigma):\n",
    "    # F^(-1)(p) is the inverse CDF or the quantile function for gaussian distribution with mean mu and std. dev. sigma\n",
    "    # erf^(-1)(x) = erfinv(x) is the inverse error function\n",
    "    # x = F^(-1)(p) = mu + sigma*sqrt(2)*erfinv(2p-1), or x = stats.norm.ppf(probs, loc=mu, scale=sigma)\n",
    "    x = [mu + sigma*math.sqrt(2)*erfinv(2*p-1) for p in probs]\n",
    "    return x"
   ]
  },
  {
   "cell_type": "code",
   "execution_count": 161,
   "metadata": {},
   "outputs": [
    {
     "data": {
      "image/png": "[encoded data removed]",
      "text/plain": [
       "<Figure size 432x288 with 1 Axes>"
      ]
     },
     "metadata": {
      "needs_background": "light"
     },
     "output_type": "display_data"
    }
   ],
   "source": [
    "#x = np.linspace(-5, 15, 1000)\n",
    "#pdf = gaussian(x, 5, 2)\n",
    "#plt.plot(x, pdf)\n",
    "\n",
    "n_variables = 1000\n",
    "\n",
    "p = [random.random() for i in range(0,n_variables)]\n",
    "rvs = norm_ppt(p, mu=5, sigma=2)\n",
    "plt.hist(rvs, density=True, bins=25)\n",
    "\n",
    "plt.show()"
   ]
  },
  {
   "cell_type": "markdown",
   "metadata": {},
   "source": [
    "The error function $erf(x) = \\frac{1}{\\sqrt{\\pi}}\\int_{-x}^{x}e^{-t^2}dt$ has no analytical solution and neither does the inverse $erf^{-1}(x)$. The inverse error function can be approximated by many numerical methods, and the effort to find faster/more accurate approximations continues today. Using the inverse error function, the quantile function $F^{-1}(x)$ for a Gaussian distribution can be calculated. The quantile function maps probabilities to values, and given a uniform distribution $U$ ranging from \\[0,1\\] the quantile function can be used to tranform the distribution into a Gaussian distribution $X$ by the equation $$X = F^{-1}(U)$$ or equivalently, $$X = \\mu + \\sigma\\sqrt{2} erf^{-1}(2U - 1),\\text{ where }U \\in (0, 1)$$\n",
    "\n",
    "##### Accept-Reject Method\n",
    "\n",
    "Using the accept-reject method, calculate the value of pi. Do this by drawing a circle of diameter 1 enclosed by a square of length 1, generating 1000 points to fall within the square shaped region, and calculating based on the area of each region the value of pi."
   ]
  },
  {
   "cell_type": "code",
   "execution_count": null,
   "metadata": {},
   "outputs": [],
   "source": []
  }
 ],
 "metadata": {
  "kernelspec": {
   "display_name": "Python 3",
   "language": "python",
   "name": "python3"
  },
  "language_info": {
   "codemirror_mode": {
    "name": "ipython",
    "version": 3
   },
   "file_extension": ".py",
   "mimetype": "text/x-python",
   "name": "python",
   "nbconvert_exporter": "python",
   "pygments_lexer": "ipython3",
   "version": "3.6.9"
  }
 },
 "nbformat": 4,
 "nbformat_minor": 2
}
